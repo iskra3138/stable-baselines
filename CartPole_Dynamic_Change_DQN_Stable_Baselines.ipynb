{
  "nbformat": 4,
  "nbformat_minor": 0,
  "metadata": {
    "colab": {
      "name": "CartPole_Dynamic_Change_DQN_Stable_Baselines.ipynb",
      "provenance": [],
      "collapsed_sections": [],
      "toc_visible": true,
      "include_colab_link": true
    },
    "kernelspec": {
      "display_name": "Python 3",
      "name": "python3"
    }
  },
  "cells": [
    {
      "cell_type": "markdown",
      "metadata": {
        "id": "view-in-github",
        "colab_type": "text"
      },
      "source": [
        "<a href=\"https://colab.research.google.com/github/iskra3138/stable-baselines/blob/main/CartPole_Dynamic_Change_DQN_Stable_Baselines.ipynb\" target=\"_parent\"><img src=\"https://colab.research.google.com/assets/colab-badge.svg\" alt=\"Open In Colab\"/></a>"
      ]
    },
    {
      "cell_type": "markdown",
      "metadata": {
        "id": "4_16bQF0anmE"
      },
      "source": [
        "## Setup\n"
      ]
    },
    {
      "cell_type": "code",
      "metadata": {
        "colab": {
          "base_uri": "https://localhost:8080/"
        },
        "id": "KCvNLM5UXza8",
        "outputId": "7f66b01e-3b4d-42ba-9767-38250d641f50"
      },
      "source": [
        "# Stable Baselines only supports tensorflow 1.x for now\n",
        "%tensorflow_version 1.x"
      ],
      "execution_count": 1,
      "outputs": [
        {
          "output_type": "stream",
          "text": [
            "TensorFlow 1.x selected.\n"
          ],
          "name": "stdout"
        }
      ]
    },
    {
      "cell_type": "code",
      "metadata": {
        "id": "hLsiDDX4f1tR"
      },
      "source": [
        "!apt-get install ffmpeg freeglut3-dev xvfb  # For visualization\n",
        "!pip install stable-baselines[mpi]==2.10.0"
      ],
      "execution_count": null,
      "outputs": []
    },
    {
      "cell_type": "code",
      "metadata": {
        "id": "BoupqggMlJ-2"
      },
      "source": [
        "import numpy as np\n",
        "import math\n",
        "import gym"
      ],
      "execution_count": 2,
      "outputs": []
    },
    {
      "cell_type": "code",
      "metadata": {
        "id": "Z59vDeyFS5nF"
      },
      "source": [
        "from gym.envs.classic_control import cartpole\n",
        "\n",
        "class CartPoleEnv_stochastic(cartpole.CartPoleEnv):\n",
        "\n",
        "  def __init__(self, mu, sigma):\n",
        "    super(CartPoleEnv_stochastic, self).__init__()\n",
        "    self.mu = mu\n",
        "    self.sigma = sigma\n",
        "\n",
        "  def step(self, action):\n",
        "    err_msg = \"%r (%s) invalid\" % (action, type(action))\n",
        "    assert self.action_space.contains(action), err_msg\n",
        "\n",
        "    x, x_dot, theta, theta_dot = self.state\n",
        "    ### to replace deterministic action with stochastic action \n",
        "    #force = self.force_mag if action == 1 else -self.force_mag\n",
        "    stochastic_force = self.force_mag + np.random.normal(self.mu, self.sigma)\n",
        "    force = stochastic_force if action == 1 else -stochastic_force\n",
        "\n",
        "    costheta = math.cos(theta)\n",
        "    sintheta = math.sin(theta)\n",
        "\n",
        "    # For the interested reader:\n",
        "    # https://coneural.org/florian/papers/05_cart_pole.pdf\n",
        "    temp = (force + self.polemass_length * theta_dot ** 2 * sintheta) / self.total_mass\n",
        "    thetaacc = (self.gravity * sintheta - costheta * temp) / (self.length * (4.0 / 3.0 - self.masspole * costheta ** 2 / self.total_mass))\n",
        "    xacc = temp - self.polemass_length * thetaacc * costheta / self.total_mass\n",
        "\n",
        "    if self.kinematics_integrator == 'euler':\n",
        "        x = x + self.tau * x_dot\n",
        "        x_dot = x_dot + self.tau * xacc\n",
        "        theta = theta + self.tau * theta_dot\n",
        "        theta_dot = theta_dot + self.tau * thetaacc\n",
        "    else:  # semi-implicit euler\n",
        "        x_dot = x_dot + self.tau * xacc\n",
        "        x = x + self.tau * x_dot\n",
        "        theta_dot = theta_dot + self.tau * thetaacc\n",
        "        theta = theta + self.tau * theta_dot\n",
        "\n",
        "    self.state = (x, x_dot, theta, theta_dot)\n",
        "\n",
        "    done = bool(\n",
        "        x < -self.x_threshold\n",
        "        or x > self.x_threshold\n",
        "        or theta < -self.theta_threshold_radians\n",
        "        or theta > self.theta_threshold_radians\n",
        "    )\n",
        "\n",
        "    if not done:\n",
        "        reward = 1.0\n",
        "    elif self.steps_beyond_done is None:\n",
        "        # Pole just fell!\n",
        "        self.steps_beyond_done = 0\n",
        "        reward = 1.0\n",
        "    else:\n",
        "        if self.steps_beyond_done == 0:\n",
        "            logger.warn(\n",
        "                \"You are calling 'step()' even though this \"\n",
        "                \"environment has already returned done = True. You \"\n",
        "                \"should always call 'reset()' once you receive 'done = \"\n",
        "                \"True' -- any further steps are undefined behavior.\"\n",
        "            )\n",
        "        self.steps_beyond_done += 1\n",
        "        reward = 0.0\n",
        "\n",
        "    return np.array(self.state), reward, done, {}"
      ],
      "execution_count": 3,
      "outputs": []
    },
    {
      "cell_type": "code",
      "metadata": {
        "colab": {
          "base_uri": "https://localhost:8080/"
        },
        "id": "OKndjbr6YC2C",
        "outputId": "d09c43d3-0a89-464d-9d27-6552c078d7f5"
      },
      "source": [
        "# To check deterministic actiong\n",
        "environment = CartPoleEnv_stochastic(mu=0.0, sigma=0.0)\n",
        "for _ in range(3):\n",
        "  environment.seed(1)\n",
        "  step = environment.reset()\n",
        "  next_step = environment.step(np.array(0, dtype=np.int32))\n",
        "  print (step, '- >', next_step[0])"
      ],
      "execution_count": 4,
      "outputs": [
        {
          "output_type": "stream",
          "text": [
            "[ 0.03073904  0.00145001 -0.03088818 -0.03131252] - > [ 0.03076804 -0.19321569 -0.03151444  0.25146705]\n",
            "[ 0.03073904  0.00145001 -0.03088818 -0.03131252] - > [ 0.03076804 -0.19321569 -0.03151444  0.25146705]\n",
            "[ 0.03073904  0.00145001 -0.03088818 -0.03131252] - > [ 0.03076804 -0.19321569 -0.03151444  0.25146705]\n"
          ],
          "name": "stdout"
        }
      ]
    },
    {
      "cell_type": "code",
      "metadata": {
        "colab": {
          "base_uri": "https://localhost:8080/"
        },
        "id": "SBGJKF89YDZ8",
        "outputId": "205596bb-4f1c-4805-a178-ddebbcc21024"
      },
      "source": [
        "# To check stochastic action\n",
        "environment = CartPoleEnv_stochastic(mu=0.0, sigma=0.5)\n",
        "for _ in range(3):\n",
        "  environment.seed(1)\n",
        "  step = environment.reset()\n",
        "  next_step = environment.step(np.array(0, dtype=np.int32))\n",
        "  print (step, '- >', next_step[0])"
      ],
      "execution_count": 5,
      "outputs": [
        {
          "output_type": "stream",
          "text": [
            "[ 0.03073904  0.00145001 -0.03088818 -0.03131252] - > [ 0.03076804 -0.18513334 -0.03151444  0.23934932]\n",
            "[ 0.03073904  0.00145001 -0.03088818 -0.03131252] - > [ 0.03076804 -0.20348305 -0.03151444  0.26686076]\n",
            "[ 0.03073904  0.00145001 -0.03088818 -0.03131252] - > [ 0.03076804 -0.18848618 -0.03151444  0.24437618]\n"
          ],
          "name": "stdout"
        }
      ]
    },
    {
      "cell_type": "code",
      "metadata": {
        "id": "0kwK7vUXYC5b"
      },
      "source": [
        "env = CartPoleEnv_stochastic(mu=0.0, sigma=0.5)\n",
        "env = gym.wrappers.TimeLimit(env, max_episode_steps=500)"
      ],
      "execution_count": 6,
      "outputs": []
    },
    {
      "cell_type": "code",
      "metadata": {
        "id": "6wc65vEnYDci"
      },
      "source": [
        "# Same as before we instantiate the agent along with the environment\n",
        "from stable_baselines import DQN\n",
        "\n",
        "# Deactivate all the DQN extensions to have the original version\n",
        "# In practice, it is recommend to have them activated\n",
        "# 본 예제에서는 모든 확장 기능을 비활성화시킴. 실제에서는 모두 활성화하길 추천함\n",
        "kwargs = {'double_q': False, 'prioritized_replay': True, 'policy_kwargs': dict(dueling=False)}\n",
        "\n",
        "# Note that the MlpPolicy of DQN is different from the one of PPO\n",
        "# but stable-baselines handles that automatically if you pass a string\n",
        "# DQN의 MlpPolicy는 PPO의 그것과 다르지만 string argument를 이용해서 자동으로 적절할 MlpPolicy가 선택됨\n",
        "dqn_model = DQN('MlpPolicy', env, verbose=1, learning_rate=1e-3, batch_size=64, buffer_size=100000, **kwargs)"
      ],
      "execution_count": null,
      "outputs": []
    },
    {
      "cell_type": "code",
      "metadata": {
        "id": "HpSMss8YbnES"
      },
      "source": [
        "def evaluate(model, env, num_episodes=10):\n",
        "    \"\"\"\n",
        "    Evaluate a RL agent\n",
        "    :param model: (BaseRLModel object) the RL Agent\n",
        "    :param num_episodes: (int) number of episodes to evaluate it\n",
        "    :return: (float) Mean reward for the last num_episodes\n",
        "    \"\"\"\n",
        "    # This function will only work for a single Environment\n",
        "    # single Environment에 대해서만 작동함\n",
        "    #env = model.get_env() \n",
        "    all_episode_rewards = []\n",
        "    for i in range(num_episodes):\n",
        "        episode_rewards = []\n",
        "        done = False\n",
        "        obs = env.reset() # e.g. [[ 0.04632042, -0.01863058, -0.03169358,  0.00881829]])\n",
        "        while not done:\n",
        "            # _states are only useful when using LSTM policies\n",
        "            action, _states = model.predict(obs, deterministic=True) # e.g.: [0], None\n",
        "            # here, action, rewards and dones are arrays\n",
        "            # because we are using vectorized env\n",
        "            obs, reward, done, info = env.step(action) #e.g.: [[0.04, -0.24, -0.03, 0.27]], [1.0], [False], [{}]\n",
        "            episode_rewards.append(reward)\n",
        "\n",
        "        all_episode_rewards.append(sum(episode_rewards))\n",
        "\n",
        "    mean_episode_reward = np.mean(all_episode_rewards)\n",
        "    print(\"Mean reward:\", mean_episode_reward, \"Num episodes:\", num_episodes)\n",
        "\n",
        "    return mean_episode_reward"
      ],
      "execution_count": 9,
      "outputs": []
    },
    {
      "cell_type": "code",
      "metadata": {
        "colab": {
          "base_uri": "https://localhost:8080/"
        },
        "id": "BEBHsDY2YDfg",
        "outputId": "62d6da56-c439-4155-ca74-203b308b7b5b"
      },
      "source": [
        "# Random Agent, before training\n",
        "eval_env = gym.wrappers.TimeLimit(CartPoleEnv_stochastic(mu=0.0, sigma=0.0), max_episode_steps=500)\n",
        "eval_env.seed(1)\n",
        "mean_reward_before_train = evaluate(dqn_model, eval_env, num_episodes=1)"
      ],
      "execution_count": 13,
      "outputs": [
        {
          "output_type": "stream",
          "text": [
            "Mean reward: 104.0 Num episodes: 1\n"
          ],
          "name": "stdout"
        }
      ]
    },
    {
      "cell_type": "code",
      "metadata": {
        "id": "Y8IaS_-0YDuy"
      },
      "source": [
        "# Train the agent for 10000 steps\n",
        "dqn_model.learn(total_timesteps=1000000, log_interval=10)"
      ],
      "execution_count": null,
      "outputs": []
    },
    {
      "cell_type": "code",
      "metadata": {
        "colab": {
          "base_uri": "https://localhost:8080/"
        },
        "id": "__BXZoetYEAf",
        "outputId": "4dec67c4-95ef-420e-86b6-91e92dfbbbbe"
      },
      "source": [
        "# Evaluate the trained agent\n",
        "eval_env = CartPoleEnv_stochastic(mu=0.0, sigma=0.0)\n",
        "eval_env = gym.wrappers.TimeLimit(eval_env, max_episode_steps=500)\n",
        "eval_env.seed(1)\n",
        "\n",
        "mean_reward = evaluate(dqn_model, eval_env, num_episodes=1)"
      ],
      "execution_count": 28,
      "outputs": [
        {
          "output_type": "stream",
          "text": [
            "Mean reward: 500.0 Num episodes: 1\n"
          ],
          "name": "stdout"
        }
      ]
    },
    {
      "cell_type": "code",
      "metadata": {
        "colab": {
          "base_uri": "https://localhost:8080/"
        },
        "id": "ynnQr7ONYEEo",
        "outputId": "bd8c3377-d4b5-466c-ee28-2c85cb1cd408"
      },
      "source": [
        "from stable_baselines.common.evaluation import evaluate_policy\n",
        "eval_env = CartPoleEnv_stochastic(mu=0.0, sigma=0.0)\n",
        "eval_env = gym.wrappers.TimeLimit(eval_env, max_episode_steps=500)\n",
        "eval_env.seed(1)\n",
        "\n",
        "mean_reward, std_reward = evaluate_policy(dqn_model, eval_env, n_eval_episodes=1)\n",
        "\n",
        "print(f\"mean_reward:{mean_reward:.2f} +/- {std_reward:.2f}\")"
      ],
      "execution_count": 25,
      "outputs": [
        {
          "output_type": "stream",
          "text": [
            "mean_reward:500.00 +/- 0.00\n"
          ],
          "name": "stdout"
        }
      ]
    },
    {
      "cell_type": "code",
      "metadata": {
        "colab": {
          "base_uri": "https://localhost:8080/"
        },
        "id": "s_qhBRPvYEda",
        "outputId": "3316e72f-0039-4044-aa4a-ce486eaaeef1"
      },
      "source": [
        "# mu=0.0으로 고정\n",
        "sigmas = [0.0, 1.0, 3.0, 5.0, 10.0]\n",
        "for sigma in sigmas :\n",
        "  eval_env = CartPoleEnv_stochastic(mu=0.0, sigma=sigma)\n",
        "  eval_env = gym.wrappers.TimeLimit(eval_env, max_episode_steps=500)\n",
        "  eval_env.seed(1)\n",
        "\n",
        "  print (sigma, 'mean_reward = ', evaluate(dqn_model, eval_env, num_episodes=10))"
      ],
      "execution_count": 29,
      "outputs": [
        {
          "output_type": "stream",
          "text": [
            "Mean reward: 308.9 Num episodes: 10\n",
            "0.0 mean_reward =  308.9\n",
            "Mean reward: 215.3 Num episodes: 10\n",
            "1.0 mean_reward =  215.3\n",
            "Mean reward: 213.2 Num episodes: 10\n",
            "3.0 mean_reward =  213.2\n",
            "Mean reward: 21.3 Num episodes: 10\n",
            "5.0 mean_reward =  21.3\n",
            "Mean reward: 14.8 Num episodes: 10\n",
            "10.0 mean_reward =  14.8\n"
          ],
          "name": "stdout"
        }
      ]
    },
    {
      "cell_type": "code",
      "metadata": {
        "id": "bZ97pYbzYEU6"
      },
      "source": [
        ""
      ],
      "execution_count": 24,
      "outputs": []
    },
    {
      "cell_type": "markdown",
      "metadata": {
        "id": "xVm9QPNVwKXN"
      },
      "source": [
        "### Prepare video recording"
      ]
    },
    {
      "cell_type": "code",
      "metadata": {
        "id": "MPyfQxD5z26J"
      },
      "source": [
        "# Set up fake display; otherwise rendering will fail\n",
        "import os\n",
        "os.system(\"Xvfb :1 -screen 0 1024x768x24 &\")\n",
        "os.environ['DISPLAY'] = ':1'"
      ],
      "execution_count": 19,
      "outputs": []
    },
    {
      "cell_type": "code",
      "metadata": {
        "id": "SLzXxO8VMD6N"
      },
      "source": [
        "import base64\n",
        "from pathlib import Path\n",
        "\n",
        "from IPython import display as ipythondisplay\n",
        "\n",
        "def show_videos(video_path='', prefix=''):\n",
        "  \"\"\"\n",
        "  Taken from https://github.com/eleurent/highway-env\n",
        "\n",
        "  :param video_path: (str) Path to the folder containing videos\n",
        "  :param prefix: (str) Filter the video, showing only the only starting with this prefix\n",
        "  \"\"\"\n",
        "  html = []\n",
        "  for mp4 in Path(video_path).glob(\"{}*.mp4\".format(prefix)):\n",
        "      video_b64 = base64.b64encode(mp4.read_bytes())\n",
        "      html.append('''<video alt=\"{}\" autoplay \n",
        "                    loop controls style=\"height: 400px;\">\n",
        "                    <source src=\"data:video/mp4;base64,{}\" type=\"video/mp4\" />\n",
        "                </video>'''.format(mp4, video_b64.decode('ascii')))\n",
        "  ipythondisplay.display(ipythondisplay.HTML(data=\"<br>\".join(html)))"
      ],
      "execution_count": 20,
      "outputs": []
    },
    {
      "cell_type": "markdown",
      "metadata": {
        "id": "LTRNUfulOGaF"
      },
      "source": [
        "We will record a video using the [VecVideoRecorder](https://stable-baselines.readthedocs.io/en/master/guide/vec_envs.html#vecvideorecorder) wrapper, you will learn about those wrapper in the next notebook."
      ]
    },
    {
      "cell_type": "code",
      "metadata": {
        "id": "Trag9dQpOIhx"
      },
      "source": [
        "from stable_baselines.common.vec_env import VecVideoRecorder, DummyVecEnv\n",
        "\n",
        "def record_video(env, model, video_length=500, prefix='', video_folder='videos/'):\n",
        "  \"\"\"\n",
        "  :param env_id: (str)\n",
        "  :param model: (RL model)\n",
        "  :param video_length: (int)\n",
        "  :param prefix: (str)\n",
        "  :param video_folder: (str)\n",
        "  \"\"\"\n",
        "  eval_env = DummyVecEnv([lambda: env])\n",
        "  # Start the video at step=0 and record 500 steps\n",
        "  eval_env = VecVideoRecorder(eval_env, video_folder=video_folder,\n",
        "                              record_video_trigger=lambda step: step == 0, video_length=video_length,\n",
        "                              name_prefix=prefix)\n",
        "\n",
        "  obs = eval_env.reset()\n",
        "  for _ in range(video_length):\n",
        "    action, _ = model.predict(obs, deterministic=True)\n",
        "    obs, _, _, _ = eval_env.step(action)\n",
        "\n",
        "  # Close the video recorder\n",
        "  eval_env.close()"
      ],
      "execution_count": 21,
      "outputs": []
    },
    {
      "cell_type": "markdown",
      "metadata": {
        "id": "KOObbeu5MMlR"
      },
      "source": [
        "### Visualize trained agent\n",
        "\n"
      ]
    },
    {
      "cell_type": "code",
      "metadata": {
        "id": "iATu7AiyMQW2",
        "colab": {
          "base_uri": "https://localhost:8080/"
        },
        "outputId": "633868a0-ec81-49a4-81b7-8ba9c4c7cdb2"
      },
      "source": [
        "record_video(env, dqn_model, video_length=500, prefix='dqn-cartpole')"
      ],
      "execution_count": 22,
      "outputs": [
        {
          "output_type": "stream",
          "text": [
            "Saving video to  /content/videos/dqn-cartpole-step-0-to-step-500.mp4\n"
          ],
          "name": "stdout"
        }
      ]
    },
    {
      "cell_type": "code",
      "metadata": {
        "id": "-n4i-fW3NojZ",
        "colab": {
          "base_uri": "https://localhost:8080/",
          "height": 420
        },
        "outputId": "e6a49100-2a03-460a-925f-ea33b20443d1"
      },
      "source": [
        "show_videos('videos', prefix='dqn')"
      ],
      "execution_count": 23,
      "outputs": [
        {
          "output_type": "display_data",
          "data": {
            "text/html": [
              "<video alt=\"videos/dqn-cartpole-step-0-to-step-500.mp4\" autoplay \n",
              "                    loop controls style=\"height: 400px;\">\n",
              "                    <source src=\"data:video/mp4;base64,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\" type=\"video/mp4\" />\n",
              "                </video>"
            ],
            "text/plain": [
              "<IPython.core.display.HTML object>"
            ]
          },
          "metadata": {
            "tags": []
          }
        }
      ]
    },
    {
      "cell_type": "code",
      "metadata": {
        "id": "iM55E1G9YDy_"
      },
      "source": [
        ""
      ],
      "execution_count": null,
      "outputs": []
    },
    {
      "cell_type": "code",
      "metadata": {
        "id": "T9Y6vRtXYDrQ"
      },
      "source": [
        ""
      ],
      "execution_count": null,
      "outputs": []
    },
    {
      "cell_type": "code",
      "metadata": {
        "id": "RA-e7PNsYDWT"
      },
      "source": [
        ""
      ],
      "execution_count": null,
      "outputs": []
    },
    {
      "cell_type": "code",
      "metadata": {
        "id": "kzSGTtCATFYE"
      },
      "source": [
        ""
      ],
      "execution_count": null,
      "outputs": []
    },
    {
      "cell_type": "code",
      "metadata": {
        "id": "pM8rPe4hTFUC"
      },
      "source": [
        ""
      ],
      "execution_count": null,
      "outputs": []
    }
  ]
}