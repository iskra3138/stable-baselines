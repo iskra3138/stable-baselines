{
  "nbformat": 4,
  "nbformat_minor": 0,
  "metadata": {
    "colab": {
      "name": "git_based_Stable_baselines_A2C_HPO",
      "provenance": [],
      "collapsed_sections": [],
      "include_colab_link": true
    },
    "kernelspec": {
      "display_name": "Python 3",
      "language": "python",
      "name": "python3"
    },
    "language_info": {
      "codemirror_mode": {
        "name": "ipython",
        "version": 3
      },
      "file_extension": ".py",
      "mimetype": "text/x-python",
      "name": "python",
      "nbconvert_exporter": "python",
      "pygments_lexer": "ipython3",
      "version": "3.7.4"
    }
  },
  "cells": [
    {
      "cell_type": "markdown",
      "metadata": {
        "id": "view-in-github",
        "colab_type": "text"
      },
      "source": [
        "<a href=\"https://colab.research.google.com/github/iskra3138/stable-baselines/blob/main/git_based_Stable_baselines_A2C_HPO.ipynb\" target=\"_parent\"><img src=\"https://colab.research.google.com/assets/colab-badge.svg\" alt=\"Open In Colab\"/></a>"
      ]
    },
    {
      "cell_type": "markdown",
      "metadata": {
        "id": "EC5luhybVmzc"
      },
      "source": [
        "# 필요한 Library 및 git repo 설치"
      ]
    },
    {
      "cell_type": "code",
      "metadata": {
        "id": "HdOUMxVJ8oyl"
      },
      "source": [
        "# Stable Baselines only supports tensorflow 1.x for now\n",
        "\n",
        "!apt install swig\n",
        "!pip install stable-baselines[mpi]==2.10.0\n",
        "!pip install optuna"
      ],
      "execution_count": 1,
      "outputs": []
    },
    {
      "cell_type": "code",
      "metadata": {
        "id": "NHjuNXTFil9c",
        "outputId": "46d7c42c-ea4a-4064-864a-8400c08abdf0",
        "colab": {
          "base_uri": "https://localhost:8080/",
          "height": 33
        }
      },
      "source": [
        "!git clone --recursive https://github.com/araffin/rl-baselines-zoo.git"
      ],
      "execution_count": 2,
      "outputs": [
        {
          "output_type": "stream",
          "text": [
            "fatal: destination path 'rl-baselines-zoo' already exists and is not an empty directory.\n"
          ],
          "name": "stdout"
        }
      ]
    },
    {
      "cell_type": "markdown",
      "metadata": {
        "id": "UK7WmkfxoYKP"
      },
      "source": [
        "# Directpry change"
      ]
    },
    {
      "cell_type": "code",
      "metadata": {
        "id": "wC8jjDk9i5SD",
        "outputId": "346bea96-ff8e-4e8d-ddc4-0d994b0a55a7",
        "colab": {
          "base_uri": "https://localhost:8080/",
          "height": 33
        }
      },
      "source": [
        "%cd /content/rl-baselines-zoo/"
      ],
      "execution_count": 2,
      "outputs": [
        {
          "output_type": "stream",
          "text": [
            "/content/rl-baselines-zoo\n"
          ],
          "name": "stdout"
        }
      ]
    },
    {
      "cell_type": "markdown",
      "metadata": {
        "id": "wUGpS9r_WAti"
      },
      "source": [
        "# TF 1.X 선택 및 필요 모듈 호출"
      ]
    },
    {
      "cell_type": "code",
      "metadata": {
        "id": "Y8E7nW1aWBNE",
        "outputId": "3ed0d788-67b9-4731-83f4-ea69e1dd80c0",
        "colab": {
          "base_uri": "https://localhost:8080/",
          "height": 167
        }
      },
      "source": [
        "%tensorflow_version 1.x\n",
        "\n",
        "import os\n",
        "import numpy as np\n",
        "import gym\n",
        "import argparse\n",
        "import time\n",
        "import yaml\n",
        "\n",
        "import optuna\n",
        "from optuna.pruners import SuccessiveHalvingPruner, MedianPruner\n",
        "from optuna.samplers import RandomSampler, TPESampler\n",
        "from optuna.integration.skopt import SkoptSampler\n",
        "\n",
        "from stable_baselines import SAC, TD3\n",
        "from stable_baselines.common.noise import AdaptiveParamNoiseSpec, NormalActionNoise, OrnsteinUhlenbeckActionNoise\n",
        "from stable_baselines.common.vec_env import VecNormalize, DummyVecEnv, VecEnv\n",
        "from stable_baselines.common import set_global_seeds\n",
        "from stable_baselines.bench import Monitor\n",
        "\n",
        "from utils import make_env, ALGOS, linear_schedule, get_latest_run_id, get_wrapper_class\n",
        "from utils.utils import StoreDict\n",
        "\n",
        "from utils.callbacks import TrialEvalCallback"
      ],
      "execution_count": 3,
      "outputs": [
        {
          "output_type": "stream",
          "text": [
            "TensorFlow 1.x selected.\n",
            "WARNING:tensorflow:\n",
            "The TensorFlow contrib module will not be included in TensorFlow 2.0.\n",
            "For more information, please see:\n",
            "  * https://github.com/tensorflow/community/blob/master/rfcs/20180907-contrib-sunset.md\n",
            "  * https://github.com/tensorflow/addons\n",
            "  * https://github.com/tensorflow/io (for I/O related ops)\n",
            "If you depend on functionality not listed there, please file an issue.\n",
            "\n"
          ],
          "name": "stdout"
        }
      ]
    },
    {
      "cell_type": "markdown",
      "metadata": {
        "id": "LMZd1hubmEC7"
      },
      "source": [
        "# <font color='red'> Arguments 입력 </font>"
      ]
    },
    {
      "cell_type": "code",
      "metadata": {
        "id": "A4kVld8eIIxQ"
      },
      "source": [
        "# Default Values\n",
        "parser = argparse.ArgumentParser()\n",
        "parser.add_argument('--env', type=str, default=\"CartPole-v1\", help='environment ID')\n",
        "parser.add_argument('-tb', '--tensorboard-log', help='Tensorboard log dir', default='', type=str)\n",
        "parser.add_argument('-i', '--trained-agent', help='Path to a pretrained agent to continue training',\n",
        "                    default='', type=str)\n",
        "parser.add_argument('--algo', help='RL Algorithm', default='ppo2',\n",
        "                    type=str, required=False, choices=list(ALGOS.keys()))\n",
        "parser.add_argument('-n', '--n-timesteps', help='Overwrite the number of timesteps', default=-1,\n",
        "                    type=int)\n",
        "parser.add_argument('--log-interval', help='Override log interval (default: -1, no change)', default=-1,\n",
        "                    type=int)\n",
        "parser.add_argument('--eval-freq', help='Evaluate the agent every n steps (if negative, no evaluation)',\n",
        "                    default=10000, type=int)\n",
        "parser.add_argument('--eval-episodes', help='Number of episodes to use for evaluation',\n",
        "                    default=5, type=int)\n",
        "parser.add_argument('--save-freq', help='Save the model every n steps (if negative, no checkpoint)',\n",
        "                    default=-1, type=int)\n",
        "parser.add_argument('-f', '--log-folder', help='Log folder', type=str, default='logs')\n",
        "parser.add_argument('--seed', help='Random generator seed', type=int, default=0)\n",
        "parser.add_argument('--n-trials', help='Number of trials for optimizing hyperparameters', type=int, default=10)\n",
        "parser.add_argument('-optimize', '--optimize-hyperparameters', action='store_true', default=False,\n",
        "                    help='Run hyperparameters search')\n",
        "parser.add_argument('--n-jobs', help='Number of parallel jobs when optimizing hyperparameters', type=int, default=1)\n",
        "parser.add_argument('--sampler', help='Sampler to use when optimizing hyperparameters', type=str,\n",
        "                    default='tpe', choices=['random', 'tpe', 'skopt'])\n",
        "parser.add_argument('--pruner', help='Pruner to use when optimizing hyperparameters', type=str,\n",
        "                    default='median', choices=['halving', 'median', 'none'])\n",
        "parser.add_argument('--verbose', help='Verbose mode (0: no output, 1: INFO)', default=1,\n",
        "                    type=int)\n",
        "parser.add_argument('--gym-packages', type=str, nargs='+', default=[],\n",
        "                    help='Additional external Gym environemnt package modules to import (e.g. gym_minigrid)')\n",
        "parser.add_argument('-params', '--hyperparams', type=str, nargs='+', action=StoreDict,\n",
        "                    help='Overwrite hyperparameter (e.g. learning_rate:0.01 train_freq:10)')\n",
        "parser.add_argument('-uuid', '--uuid', action='store_true', default=False,\n",
        "                    help='Ensure that the run has a unique ID')\n",
        "parser.add_argument('--env-kwargs', type=str, nargs='+', action=StoreDict,\n",
        "                    help='Optional keyword argument to pass to the env constructor')\n",
        "args = parser.parse_args()"
      ],
      "execution_count": 4,
      "outputs": []
    },
    {
      "cell_type": "code",
      "metadata": {
        "id": "BguZFVRyYmyH"
      },
      "source": [
        "# Custom Values\n",
        "args.algo = 'a2c'\n",
        "args.log_folder = './log'\n",
        "env_id = 'CartPole-v1'\n",
        "tensorboard_log = './tb_log'\n",
        "normalize = False\n",
        "n_envs = 1\n",
        "seed = 0\n",
        "log_dir ='./log' \n",
        "save_path = './save'\n",
        "\n"
      ],
      "execution_count": 5,
      "outputs": []
    },
    {
      "cell_type": "code",
      "metadata": {
        "id": "IafCwnGalOxa"
      },
      "source": [
        "# Load hyperparameters from yaml file\n",
        "with open('hyperparams/{}.yml'.format(args.algo), 'r') as f:\n",
        "    hyperparams_dict = yaml.safe_load(f)\n",
        "    if env_id in list(hyperparams_dict.keys()):\n",
        "        hyperparams = hyperparams_dict[env_id]\n",
        "    elif is_atari:\n",
        "        hyperparams = hyperparams_dict['atari']\n",
        "    else:\n",
        "        raise ValueError(\"Hyperparameters not found for {}-{}\".format(args.algo, env_id))\n",
        "\n",
        "# Delete keys so the dict can be pass to the model constructor\n",
        "if 'n_envs' in hyperparams.keys():\n",
        "    del hyperparams['n_envs']\n",
        "del hyperparams['n_timesteps']"
      ],
      "execution_count": 6,
      "outputs": []
    },
    {
      "cell_type": "markdown",
      "metadata": {
        "id": "to-_8RhwWS-h"
      },
      "source": [
        "# <font color='red'> HPO 탐색공간 입력 </font>"
      ]
    },
    {
      "cell_type": "code",
      "metadata": {
        "id": "ojC69PiC9YNb"
      },
      "source": [
        "# https://github.com/araffin/rl-baselines-zoo/blob/master/utils/hyperparams_opt.py\n",
        "# n_steps = 128로 고정\n",
        "def sample_a2c_params(trial):\n",
        "    \"\"\"\n",
        "    Sampler for A2C hyperparams.\n",
        "\n",
        "    :param trial: (optuna.trial)\n",
        "    :return: (dict)\n",
        "    \"\"\"\n",
        "    gamma = trial.suggest_categorical('gamma', [0.9, 0.95, 0.98, 0.99, 0.995, 0.999, 0.9999])\n",
        "    #n_steps = trial.suggest_categorical('n_steps', [8, 16, 32, 64, 128, 256, 512, 1024, 2048])\n",
        "    n_steps = trial.suggest_categorical('n_steps', [128])\n",
        "    lr_schedule = trial.suggest_categorical('lr_schedule', ['linear', 'constant'])\n",
        "    learning_rate = trial.suggest_loguniform('lr', 1e-5, 1)\n",
        "    ent_coef = trial.suggest_loguniform('ent_coef', 0.00000001, 0.1)\n",
        "    vf_coef = trial.suggest_uniform('vf_coef', 0, 1)\n",
        "    # normalize = trial.suggest_categorical('normalize', [True, False])\n",
        "    # TODO: take into account the normalization (also for the test env)\n",
        "\n",
        "    return {\n",
        "        'n_steps': n_steps,\n",
        "        'gamma': gamma,\n",
        "        'learning_rate': learning_rate,\n",
        "        'lr_schedule': lr_schedule,\n",
        "        'ent_coef': ent_coef,\n",
        "        'vf_coef': vf_coef\n",
        "    }\n",
        "\n",
        "HYPERPARAMS_SAMPLER = {\n",
        "    'a2c': sample_a2c_params,\n",
        "}"
      ],
      "execution_count": 7,
      "outputs": []
    },
    {
      "cell_type": "markdown",
      "metadata": {
        "id": "8ahmQzoyWLHt"
      },
      "source": [
        "# 환경 및 모델 함수 정의"
      ]
    },
    {
      "cell_type": "code",
      "metadata": {
        "id": "mbiCVIxilo2Y"
      },
      "source": [
        "# https://github.com/araffin/rl-baselines-zoo/blob/master/utils/utils.py\n",
        "def make_env(env_id, rank=0, seed=0, log_dir=None, wrapper_class=None, env_kwargs=None):\n",
        "    \"\"\"\n",
        "    Helper function to multiprocess training\n",
        "    and log the progress.\n",
        "    :param env_id: (str)\n",
        "    :param rank: (int)\n",
        "    :param seed: (int)\n",
        "    :param log_dir: (str)\n",
        "    :param wrapper: (type) a subclass of gym.Wrapper to wrap the original\n",
        "                    env with\n",
        "    :param env_kwargs: (Dict[str, Any]) Optional keyword argument to pass to the env constructor\n",
        "    \"\"\"\n",
        "    if log_dir is not None:\n",
        "        os.makedirs(log_dir, exist_ok=True)\n",
        "\n",
        "    if env_kwargs is None:\n",
        "        env_kwargs = {}\n",
        "\n",
        "    def _init():\n",
        "        set_global_seeds(seed + rank)\n",
        "        env = gym.make(env_id, **env_kwargs)\n",
        "\n",
        "        # Dict observation space is currently not supported.\n",
        "        # https://github.com/hill-a/stable-baselines/issues/321\n",
        "        # We allow a Gym env wrapper (a subclass of gym.Wrapper)\n",
        "        if wrapper_class:\n",
        "            env = wrapper_class(env)\n",
        "\n",
        "        env.seed(seed + rank)\n",
        "        log_file = os.path.join(log_dir, str(rank)) if log_dir is not None else None\n",
        "        env = Monitor(env, log_file)\n",
        "        return env\n",
        "\n",
        "    return _init"
      ],
      "execution_count": 8,
      "outputs": []
    },
    {
      "cell_type": "code",
      "metadata": {
        "id": "BIkC_P3ngSda"
      },
      "source": [
        "# obtain a class object from a wrapper name string in hyperparams\n",
        "# and delete the entry\n",
        "env_wrapper = get_wrapper_class(hyperparams)\n",
        "if 'env_wrapper' in hyperparams.keys():\n",
        "    del hyperparams['env_wrapper']"
      ],
      "execution_count": 9,
      "outputs": []
    },
    {
      "cell_type": "code",
      "metadata": {
        "id": "GWSSBRRWgkJP"
      },
      "source": [
        "env_kwargs = {} if args.env_kwargs is None else args.env_kwargs"
      ],
      "execution_count": 10,
      "outputs": []
    },
    {
      "cell_type": "code",
      "metadata": {
        "id": "B6GmAoXeTjoM"
      },
      "source": [
        "# https://github.com/araffin/rl-baselines-zoo/blob/master/train.py\n",
        "is_atari = False\n",
        "algo_ = []\n",
        "def create_env(n_envs, eval_env=False, no_log=False):\n",
        "    \"\"\"\n",
        "    Create the environment and wrap it if necessary\n",
        "    :param n_envs: (int)\n",
        "    :param eval_env: (bool) Whether is it an environment used for evaluation or not\n",
        "    :param no_log: (bool) Do not log training when doing hyperparameter optim\n",
        "        (issue with writing the same file)\n",
        "    :return: (Union[gym.Env, VecEnv])\n",
        "    \"\"\"\n",
        "    global hyperparams\n",
        "    global env_kwargs\n",
        "\n",
        "    # Do not log eval env (issue with writing the same file)\n",
        "    log_dir = None if eval_env or no_log else save_path\n",
        "\n",
        "    if is_atari:\n",
        "        if args.verbose > 0:\n",
        "            print(\"Using Atari wrapper\")\n",
        "        env = make_atari_env(env_id, num_env=n_envs, seed=args.seed)\n",
        "        # Frame-stacking with 4 frames\n",
        "        env = VecFrameStack(env, n_stack=4)\n",
        "    elif algo_ in ['dqn', 'ddpg']:\n",
        "        if hyperparams.get('normalize', False):\n",
        "            print(\"WARNING: normalization not supported yet for DDPG/DQN\")\n",
        "        env = gym.make(env_id, **env_kwargs)\n",
        "        env.seed(args.seed)\n",
        "        if env_wrapper is not None:\n",
        "            env = env_wrapper(env)\n",
        "    else:\n",
        "        if n_envs == 1:\n",
        "            env = DummyVecEnv([make_env(env_id, 0, args.seed, wrapper_class=env_wrapper, log_dir=log_dir, env_kwargs=env_kwargs)])\n",
        "        else:\n",
        "            # env = SubprocVecEnv([make_env(env_id, i, args.seed) for i in range(n_envs)])\n",
        "            # On most env, SubprocVecEnv does not help and is quite memory hungry\n",
        "            env = DummyVecEnv([make_env(env_id, i, args.seed, log_dir=log_dir,\n",
        "                                        wrapper_class=env_wrapper, env_kwargs=env_kwargs) for i in range(n_envs)])\n",
        "        if normalize:\n",
        "            # Copy to avoid changing default values by reference\n",
        "            local_normalize_kwargs = normalize_kwargs.copy()\n",
        "            # Do not normalize reward for env used for evaluation\n",
        "            if eval_env:\n",
        "                if len(local_normalize_kwargs) > 0:\n",
        "                    local_normalize_kwargs['norm_reward'] = False\n",
        "                else:\n",
        "                    local_normalize_kwargs = {'norm_reward': False}\n",
        "\n",
        "            if args.verbose > 0:\n",
        "                if len(local_normalize_kwargs) > 0:\n",
        "                    print(\"Normalization activated: {}\".format(local_normalize_kwargs))\n",
        "                else:\n",
        "                    print(\"Normalizing input and reward\")\n",
        "            env = VecNormalize(env, **local_normalize_kwargs)\n",
        "\n",
        "    # Optional Frame-stacking\n",
        "    if hyperparams.get('frame_stack', False):\n",
        "        n_stack = hyperparams['frame_stack']\n",
        "        env = VecFrameStack(env, n_stack)\n",
        "        print(\"Stacking {} frames\".format(n_stack))\n",
        "    if args.algo == 'her':\n",
        "        # Wrap the env if need to flatten the dict obs\n",
        "        if isinstance(env, VecEnv):\n",
        "            env = _UnvecWrapper(env)\n",
        "        env = HERGoalEnvWrapper(env)\n",
        "    return env"
      ],
      "execution_count": 11,
      "outputs": []
    },
    {
      "cell_type": "code",
      "metadata": {
        "id": "QI4S3WEvpUhc"
      },
      "source": [
        "# https://github.com/araffin/rl-baselines-zoo/blob/master/train.py\n",
        "\n",
        "def create_model(*_args, **kwargs):\n",
        "    \"\"\"\n",
        "    Helper to create a model with different hyperparameters\n",
        "    \"\"\"\n",
        "    return ALGOS[args.algo](env=create_env(n_envs, no_log=True), tensorboard_log=tensorboard_log,\n",
        "                            verbose=0, **kwargs)"
      ],
      "execution_count": 12,
      "outputs": []
    },
    {
      "cell_type": "markdown",
      "metadata": {
        "id": "cpsALainpMAu"
      },
      "source": [
        "# Optimization 함수 정의"
      ]
    },
    {
      "cell_type": "code",
      "metadata": {
        "id": "u8GNeci-0dQ0"
      },
      "source": [
        "# https://github.com/araffin/rl-baselines-zoo/blob/master/utils/hyperparams_opt.py\n",
        "def hyperparam_optimization(algo, model_fn, env_fn, n_trials=10, n_timesteps=5000, hyperparams=None,\n",
        "                            n_jobs=1, sampler_method='random', pruner_method='halving',\n",
        "                            seed=0, verbose=1):\n",
        "    \"\"\"\n",
        "    :param algo: (str)\n",
        "    :param model_fn: (func) function that is used to instantiate the model\n",
        "    :param env_fn: (func) function that is used to instantiate the env\n",
        "    :param n_trials: (int) maximum number of trials for finding the best hyperparams\n",
        "    :param n_timesteps: (int) maximum number of timesteps per trial\n",
        "    :param hyperparams: (dict)\n",
        "    :param n_jobs: (int) number of parallel jobs\n",
        "    :param sampler_method: (str)\n",
        "    :param pruner_method: (str)\n",
        "    :param seed: (int)\n",
        "    :param verbose: (int)\n",
        "    :return: (pd.Dataframe) detailed result of the optimization\n",
        "    \"\"\"\n",
        "    # TODO: eval each hyperparams several times to account for noisy evaluation\n",
        "    # TODO: take into account the normalization (also for the test env -> sync obs_rms)\n",
        "    if hyperparams is None:\n",
        "        hyperparams = {}\n",
        "\n",
        "    n_startup_trials = 10\n",
        "    # test during 5 episodes\n",
        "    n_eval_episodes = 5\n",
        "    # evaluate every 20th of the maximum budget per iteration\n",
        "    n_evaluations = 20\n",
        "    eval_freq = int(n_timesteps / n_evaluations)\n",
        "\n",
        "    # n_warmup_steps: Disable pruner until the trial reaches the given number of step.\n",
        "    if sampler_method == 'random':\n",
        "        sampler = RandomSampler(seed=seed)\n",
        "    elif sampler_method == 'tpe':\n",
        "        sampler = TPESampler(n_startup_trials=n_startup_trials, seed=seed)\n",
        "    elif sampler_method == 'skopt':\n",
        "        # cf https://scikit-optimize.github.io/#skopt.Optimizer\n",
        "        # GP: gaussian process\n",
        "        # Gradient boosted regression: GBRT\n",
        "        sampler = SkoptSampler(skopt_kwargs={'base_estimator': \"GP\", 'acq_func': 'gp_hedge'})\n",
        "    else:\n",
        "        raise ValueError('Unknown sampler: {}'.format(sampler_method))\n",
        "\n",
        "    if pruner_method == 'halving':\n",
        "        pruner = SuccessiveHalvingPruner(min_resource=1, reduction_factor=4, min_early_stopping_rate=0)\n",
        "    elif pruner_method == 'median':\n",
        "        pruner = MedianPruner(n_startup_trials=n_startup_trials, n_warmup_steps=n_evaluations // 3)\n",
        "    elif pruner_method == 'none':\n",
        "        # Do not prune\n",
        "        pruner = MedianPruner(n_startup_trials=n_trials, n_warmup_steps=n_evaluations)\n",
        "    else:\n",
        "        raise ValueError('Unknown pruner: {}'.format(pruner_method))\n",
        "\n",
        "    if verbose > 0:\n",
        "        print(\"Sampler: {} - Pruner: {}\".format(sampler_method, pruner_method))\n",
        "\n",
        "    study = optuna.create_study(sampler=sampler, pruner=pruner)\n",
        "    algo_sampler = HYPERPARAMS_SAMPLER[algo]\n",
        "\n",
        "    def objective(trial):\n",
        "\n",
        "        kwargs = hyperparams.copy()\n",
        "\n",
        "        trial.model_class = None\n",
        "        if algo == 'her':\n",
        "            trial.model_class = hyperparams['model_class']\n",
        "\n",
        "        # Hack to use DDPG/TD3 noise sampler\n",
        "        if algo in ['ddpg', 'td3'] or trial.model_class in ['ddpg', 'td3']:\n",
        "            trial.n_actions = env_fn(n_envs=1).action_space.shape[0]\n",
        "        kwargs.update(algo_sampler(trial))\n",
        "\n",
        "        model = model_fn(**kwargs)\n",
        "\n",
        "        eval_env = env_fn(n_envs=1, eval_env=True)\n",
        "        # Account for parallel envs\n",
        "        eval_freq_ = eval_freq\n",
        "        if isinstance(model.get_env(), VecEnv):\n",
        "            eval_freq_ = max(eval_freq // model.get_env().num_envs, 1)\n",
        "        # TODO: use non-deterministic eval for Atari?\n",
        "        eval_callback = TrialEvalCallback(eval_env, trial, n_eval_episodes=n_eval_episodes,\n",
        "                                          eval_freq=eval_freq_, deterministic=True)\n",
        "\n",
        "        try:\n",
        "            model.learn(n_timesteps, callback=eval_callback)\n",
        "            # Free memory\n",
        "            model.env.close()\n",
        "            eval_env.close()\n",
        "        except AssertionError:\n",
        "            # Sometimes, random hyperparams can generate NaN\n",
        "            # Free memory\n",
        "            model.env.close()\n",
        "            eval_env.close()\n",
        "            raise optuna.exceptions.TrialPruned()\n",
        "        is_pruned = eval_callback.is_pruned\n",
        "        cost = -1 * eval_callback.last_mean_reward\n",
        "\n",
        "        del model.env, eval_env\n",
        "        del model\n",
        "\n",
        "        if is_pruned:\n",
        "            raise optuna.exceptions.TrialPruned()\n",
        "\n",
        "        return cost\n",
        "\n",
        "    try:\n",
        "        study.optimize(objective, n_trials=n_trials, n_jobs=n_jobs)\n",
        "    except KeyboardInterrupt:\n",
        "        pass\n",
        "\n",
        "    print('Number of finished trials: ', len(study.trials))\n",
        "\n",
        "    print('Best trial:')\n",
        "    trial = study.best_trial\n",
        "\n",
        "    print('Value: ', trial.value)\n",
        "\n",
        "    print('Params: ')\n",
        "    for key, value in trial.params.items():\n",
        "        print('    {}: {}'.format(key, value))\n",
        "\n",
        "    return study.trials_dataframe()"
      ],
      "execution_count": 13,
      "outputs": []
    },
    {
      "cell_type": "markdown",
      "metadata": {
        "id": "yiquqq089Z0j"
      },
      "source": [
        "# <font color = 'blue' > 탐색 </font>"
      ]
    },
    {
      "cell_type": "code",
      "metadata": {
        "id": "qY2jUabw4otd",
        "outputId": "7179a9b4-76bc-4037-cad8-bf2c33a8177a",
        "colab": {
          "base_uri": "https://localhost:8080/",
          "height": 405
        }
      },
      "source": [
        "# 적절한 값 입력 후 탐색\n",
        "data_frame = hyperparam_optimization(algo=args.algo, \n",
        "                                     model_fn=create_model, \n",
        "                                     env_fn=create_env, \n",
        "                                     n_trials=1000, \n",
        "                                     n_timesteps=50000 , \n",
        "                                     hyperparams=hyperparams,\n",
        "                                     n_jobs=2, \n",
        "                                     sampler_method='tpe', \n",
        "                                     pruner_method='median',\n",
        "                                     seed=0, \n",
        "                                     verbose=1)"
      ],
      "execution_count": 15,
      "outputs": [
        {
          "output_type": "stream",
          "text": [
            "\u001b[32m[I 2020-10-22 20:20:15,540]\u001b[0m A new study created in memory with name: no-name-df4f06cd-43fd-412f-8c2e-1b0adab22803\u001b[0m\n"
          ],
          "name": "stderr"
        },
        {
          "output_type": "stream",
          "text": [
            "Sampler: tpe - Pruner: median\n"
          ],
          "name": "stdout"
        },
        {
          "output_type": "stream",
          "text": [
            "\u001b[32m[I 2020-10-22 20:20:27,520]\u001b[0m Trial 1 finished with value: -10.0 and parameters: {'gamma': 0.999, 'n_steps': 128, 'lr_schedule': 'constant', 'lr': 1.084828105958055e-05, 'ent_coef': 5.408185562969343e-07, 'vf_coef': 0.28486423096170976}. Best is trial 1 with value: -10.0.\u001b[0m\n",
            "\u001b[32m[I 2020-10-22 20:20:39,090]\u001b[0m Trial 0 finished with value: -93.0 and parameters: {'gamma': 0.98, 'n_steps': 128, 'lr_schedule': 'linear', 'lr': 0.07253140910735825, 'ent_coef': 0.0005428822669270804, 'vf_coef': 0.5677231721403091}. Best is trial 0 with value: -93.0.\u001b[0m\n",
            "\u001b[32m[I 2020-10-22 20:20:47,864]\u001b[0m Trial 2 finished with value: -59.599998474121094 and parameters: {'gamma': 0.9999, 'n_steps': 128, 'lr_schedule': 'linear', 'lr': 0.0003349774919397456, 'ent_coef': 0.000598945890387196, 'vf_coef': 0.9097404238235776}. Best is trial 0 with value: -93.0.\u001b[0m\n",
            "\u001b[32m[I 2020-10-22 20:20:59,712]\u001b[0m Trial 3 finished with value: -59.599998474121094 and parameters: {'gamma': 0.98, 'n_steps': 128, 'lr_schedule': 'constant', 'lr': 2.0399784565955804e-05, 'ent_coef': 2.5392221704594648e-05, 'vf_coef': 0.5200901990977105}. Best is trial 0 with value: -93.0.\u001b[0m\n",
            "\u001b[32m[I 2020-10-22 20:21:10,061]\u001b[0m Trial 4 finished with value: -64.4000015258789 and parameters: {'gamma': 0.95, 'n_steps': 128, 'lr_schedule': 'linear', 'lr': 0.002288146824596297, 'ent_coef': 1.3794420219389632e-07, 'vf_coef': 0.22239655169800698}. Best is trial 0 with value: -93.0.\u001b[0m\n",
            "\u001b[32m[I 2020-10-22 20:21:31,410]\u001b[0m Trial 6 finished with value: -77.5999984741211 and parameters: {'gamma': 0.9999, 'n_steps': 128, 'lr_schedule': 'linear', 'lr': 0.3902491208584216, 'ent_coef': 0.000524493689418732, 'vf_coef': 0.010809238877888316}. Best is trial 0 with value: -93.0.\u001b[0m\n",
            "\u001b[32m[I 2020-10-22 20:21:42,166]\u001b[0m Trial 5 finished with value: -500.0 and parameters: {'gamma': 0.995, 'n_steps': 128, 'lr_schedule': 'linear', 'lr': 0.8198201378678229, 'ent_coef': 1.5449574837312318e-06, 'vf_coef': 0.14464856735831289}. Best is trial 5 with value: -500.0.\u001b[0m\n",
            "\u001b[32m[I 2020-10-22 20:21:50,546]\u001b[0m Trial 7 finished with value: -79.4000015258789 and parameters: {'gamma': 0.9999, 'n_steps': 128, 'lr_schedule': 'constant', 'lr': 0.03489614807678931, 'ent_coef': 4.147007233775209e-05, 'vf_coef': 0.8462412943282334}. Best is trial 5 with value: -500.0.\u001b[0m\n",
            "\u001b[32m[I 2020-10-22 20:22:03,047]\u001b[0m Trial 8 finished with value: -60.79999923706055 and parameters: {'gamma': 0.98, 'n_steps': 128, 'lr_schedule': 'linear', 'lr': 0.0007952149082198197, 'ent_coef': 0.0008197777424879392, 'vf_coef': 0.7099225957059883}. Best is trial 5 with value: -500.0.\u001b[0m\n",
            "\u001b[32m[I 2020-10-22 20:22:05,714]\u001b[0m Trial 9 finished with value: -62.599998474121094 and parameters: {'gamma': 0.95, 'n_steps': 128, 'lr_schedule': 'linear', 'lr': 0.03219183893857635, 'ent_coef': 3.6995901758709864e-06, 'vf_coef': 0.3850298709180654}. Best is trial 5 with value: -500.0.\u001b[0m\n"
          ],
          "name": "stderr"
        },
        {
          "output_type": "stream",
          "text": [
            "Number of finished trials:  10\n",
            "Best trial:\n",
            "Value:  -500.0\n",
            "Params: \n",
            "    gamma: 0.995\n",
            "    n_steps: 128\n",
            "    lr_schedule: linear\n",
            "    lr: 0.8198201378678229\n",
            "    ent_coef: 1.5449574837312318e-06\n",
            "    vf_coef: 0.14464856735831289\n"
          ],
          "name": "stdout"
        }
      ]
    },
    {
      "cell_type": "markdown",
      "metadata": {
        "id": "mj-eXeYw94_Z"
      },
      "source": [
        "# 결과 저장"
      ]
    },
    {
      "cell_type": "code",
      "metadata": {
        "id": "Z1z95iygbw6e",
        "outputId": "cc68d05f-251a-43e1-c9c5-8b362cf14d7a",
        "colab": {
          "base_uri": "https://localhost:8080/",
          "height": 33
        }
      },
      "source": [
        "report_name = \"report_{}_{}-trials-{}-{}-{}_{}.csv\".format(env_id, args.n_trials, args.n_timesteps,\n",
        "                                                        args.sampler, args.pruner, int(time.time()))\n",
        "log_path = os.path.join(args.log_folder, args.algo, report_name)\n",
        "print(\"Writing report to {}\".format(log_path))\n",
        "\n",
        "os.makedirs(os.path.dirname(log_path), exist_ok=True)\n",
        "data_frame.to_csv(log_path)"
      ],
      "execution_count": 16,
      "outputs": [
        {
          "output_type": "stream",
          "text": [
            "Writing report to ./log/a2c/report_CartPole-v1_10-trials--1-tpe-median_1603398183.csv\n"
          ],
          "name": "stdout"
        }
      ]
    },
    {
      "cell_type": "markdown",
      "metadata": {
        "id": "3Ca9ibNj962W"
      },
      "source": [
        "# 결과 다운로드"
      ]
    },
    {
      "cell_type": "code",
      "metadata": {
        "id": "zqPmXKxJ0lK3",
        "outputId": "7672f352-9fcf-48fa-f63c-44f90e0539ce",
        "colab": {
          "base_uri": "https://localhost:8080/",
          "height": 17
        }
      },
      "source": [
        "from google.colab import files\n",
        "files.download(log_path)"
      ],
      "execution_count": 17,
      "outputs": [
        {
          "output_type": "display_data",
          "data": {
            "application/javascript": [
              "\n",
              "    async function download(id, filename, size) {\n",
              "      if (!google.colab.kernel.accessAllowed) {\n",
              "        return;\n",
              "      }\n",
              "      const div = document.createElement('div');\n",
              "      const label = document.createElement('label');\n",
              "      label.textContent = `Downloading \"${filename}\": `;\n",
              "      div.appendChild(label);\n",
              "      const progress = document.createElement('progress');\n",
              "      progress.max = size;\n",
              "      div.appendChild(progress);\n",
              "      document.body.appendChild(div);\n",
              "\n",
              "      const buffers = [];\n",
              "      let downloaded = 0;\n",
              "\n",
              "      const channel = await google.colab.kernel.comms.open(id);\n",
              "      // Send a message to notify the kernel that we're ready.\n",
              "      channel.send({})\n",
              "\n",
              "      for await (const message of channel.messages) {\n",
              "        // Send a message to notify the kernel that we're ready.\n",
              "        channel.send({})\n",
              "        if (message.buffers) {\n",
              "          for (const buffer of message.buffers) {\n",
              "            buffers.push(buffer);\n",
              "            downloaded += buffer.byteLength;\n",
              "            progress.value = downloaded;\n",
              "          }\n",
              "        }\n",
              "      }\n",
              "      const blob = new Blob(buffers, {type: 'application/binary'});\n",
              "      const a = document.createElement('a');\n",
              "      a.href = window.URL.createObjectURL(blob);\n",
              "      a.download = filename;\n",
              "      div.appendChild(a);\n",
              "      a.click();\n",
              "      div.remove();\n",
              "    }\n",
              "  "
            ],
            "text/plain": [
              "<IPython.core.display.Javascript object>"
            ]
          },
          "metadata": {
            "tags": []
          }
        },
        {
          "output_type": "display_data",
          "data": {
            "application/javascript": [
              "download(\"download_49c707ff-2f86-4f47-8717-0d57aebcb1c1\", \"report_CartPole-v1_10-trials--1-tpe-median_1603398183.csv\", 2001)"
            ],
            "text/plain": [
              "<IPython.core.display.Javascript object>"
            ]
          },
          "metadata": {
            "tags": []
          }
        }
      ]
    },
    {
      "cell_type": "code",
      "metadata": {
        "id": "Ni-3DkWN-qrv"
      },
      "source": [
        ""
      ],
      "execution_count": null,
      "outputs": []
    }
  ]
}