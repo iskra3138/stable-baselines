{
  "nbformat": 4,
  "nbformat_minor": 0,
  "metadata": {
    "colab": {
      "name": "Cell_Based_Stable_baselines_A2C_HPO",
      "provenance": [],
      "collapsed_sections": [],
      "include_colab_link": true
    },
    "kernelspec": {
      "display_name": "Python 3",
      "language": "python",
      "name": "python3"
    },
    "language_info": {
      "codemirror_mode": {
        "name": "ipython",
        "version": 3
      },
      "file_extension": ".py",
      "mimetype": "text/x-python",
      "name": "python",
      "nbconvert_exporter": "python",
      "pygments_lexer": "ipython3",
      "version": "3.7.4"
    }
  },
  "cells": [
    {
      "cell_type": "markdown",
      "metadata": {
        "id": "view-in-github",
        "colab_type": "text"
      },
      "source": [
        "<a href=\"https://colab.research.google.com/github/iskra3138/stable-baselines/blob/main/Cell_Based_Stable_baselines_A2C_HPO.ipynb\" target=\"_parent\"><img src=\"https://colab.research.google.com/assets/colab-badge.svg\" alt=\"Open In Colab\"/></a>"
      ]
    },
    {
      "cell_type": "markdown",
      "metadata": {
        "id": "Bd2EqhjyRQ7Y"
      },
      "source": [
        "# TF 1.X 선택 및 필요한 Library 설치"
      ]
    },
    {
      "cell_type": "code",
      "metadata": {
        "id": "HdOUMxVJ8oyl"
      },
      "source": [
        "# Stable Baselines only supports tensorflow 1.x for now\n",
        "%tensorflow_version 1.x\n",
        "\n",
        "!apt install swig\n",
        "!pip install stable-baselines[mpi]==2.10.0\n",
        "!pip install optuna"
      ],
      "execution_count": null,
      "outputs": []
    },
    {
      "cell_type": "markdown",
      "metadata": {
        "id": "z_KQL0XQRZJB"
      },
      "source": [
        "# 필요 모듈 호출"
      ]
    },
    {
      "cell_type": "code",
      "metadata": {
        "id": "GvsWbH0lwJJG"
      },
      "source": [
        "import os\n",
        "import numpy as np\n",
        "import gym\n",
        "import time\n",
        "\n",
        "import optuna\n",
        "from optuna.pruners import SuccessiveHalvingPruner, MedianPruner\n",
        "from optuna.samplers import RandomSampler, TPESampler\n",
        "from optuna.integration.skopt import SkoptSampler\n",
        "\n",
        "from stable_baselines import A2C\n",
        "#from stable_baselines.common.noise import AdaptiveParamNoiseSpec, NormalActionNoise, OrnsteinUhlenbeckActionNoise\n",
        "from stable_baselines.common.vec_env import VecNormalize, DummyVecEnv, VecEnv\n",
        "from stable_baselines.common import set_global_seeds\n",
        "#from stable_baselines.bench import Monitor\n",
        "from stable_baselines.common import make_vec_env"
      ],
      "execution_count": null,
      "outputs": []
    },
    {
      "cell_type": "markdown",
      "metadata": {
        "id": "KlB1jyHkPqdl"
      },
      "source": [
        "# <font color='red'> Arguments 입력 </font>"
      ]
    },
    {
      "cell_type": "code",
      "metadata": {
        "id": "xwQ-QEWK_vLj"
      },
      "source": [
        "algo ='a2c'\n",
        "env_id ='CartPole-v1'\n",
        "\n",
        "n_trials = 1000 # (int) maximum number of trials for finding the best hyperparams\n",
        "n_timesteps = 50000 #  (int) maximum number of timesteps per trial\n",
        "sampler_method = 'tpe' # 'random', 'tpe', 'skopt' 중 선택\n",
        "pruner_method = 'median' # 'halving',  'median', 'none' 중 선택\n",
        "\n",
        "n_jobs = 2 # (int) number of parallel jobs\n",
        "seed = 0\n",
        "\n",
        "n_envs = 1 # (int) number of environments\n",
        "\n",
        "tensorboard_log = './tb_log' # Tensorboard log 기록을 위한 path\n",
        "log_folder = './log' # HPO 결과를 저장할 폴더 명\n",
        "\n",
        "n_startup_trials = 10\n",
        "n_eval_episodes = 5 # test during 5 episodes \n",
        "n_evaluations = 20 # evaluate every 20th of the maximum budget per iteration\n",
        "\n",
        "eval_freq = int(n_timesteps / n_evaluations) # 몇 번 evaluatino할 것인가?"
      ],
      "execution_count": null,
      "outputs": []
    },
    {
      "cell_type": "markdown",
      "metadata": {
        "id": "sxHI1TtsQy4h"
      },
      "source": [
        "# <font color='red'> HPO 탐색공간 입력 </font>"
      ]
    },
    {
      "cell_type": "code",
      "metadata": {
        "id": "fC89izrDB4dH"
      },
      "source": [
        "# batch_size 고정에 따른 최적 하이퍼파라미터 탐색을 위해 n_steps값은 고정시킴. \n",
        "\n",
        "def sample_a2c_params(trial):\n",
        "    \"\"\"\n",
        "    Sampler for A2C hyperparams.\n",
        "\n",
        "    :param trial: (optuna.trial)\n",
        "    :return: (dict)\n",
        "    \"\"\"\n",
        "    gamma = trial.suggest_categorical('gamma', [0.9, 0.95, 0.98, 0.99, 0.995, 0.999, 0.9999])\n",
        "    n_steps = trial.suggest_categorical('n_steps', [128]) #[8, 16, 32, 64, 128, 256, 512, 1024, 2048]\n",
        "    lr_schedule = trial.suggest_categorical('lr_schedule', ['linear', 'constant'])\n",
        "    learning_rate = trial.suggest_loguniform('lr', 1e-5, 1)\n",
        "    ent_coef = trial.suggest_loguniform('ent_coef', 0.00000001, 0.1)\n",
        "    vf_coef = trial.suggest_uniform('vf_coef', 0, 1)\n",
        "    # normalize = trial.suggest_categorical('normalize', [True, False])\n",
        "    # TODO: take into account the normalization (also for the test env)\n",
        "\n",
        "    return {\n",
        "        'n_steps': n_steps,\n",
        "        'gamma': gamma,\n",
        "        'learning_rate': learning_rate,\n",
        "        'lr_schedule': lr_schedule,\n",
        "        'ent_coef': ent_coef,\n",
        "        'vf_coef': vf_coef\n",
        "    }"
      ],
      "execution_count": null,
      "outputs": []
    },
    {
      "cell_type": "markdown",
      "metadata": {
        "id": "LrcaygdNSIFV"
      },
      "source": [
        "# 필요한 Class, 함수 정의"
      ]
    },
    {
      "cell_type": "code",
      "metadata": {
        "id": "gzIZmy14NUEr"
      },
      "source": [
        "from stable_baselines.common.callbacks import BaseCallback, EvalCallback\n",
        "class TrialEvalCallback(EvalCallback):\n",
        "    \"\"\"\n",
        "    Callback used for evaluating and reporting a trial.\n",
        "    \"\"\"\n",
        "    def __init__(self, eval_env, trial, n_eval_episodes=5,\n",
        "                 eval_freq=10000, deterministic=True, verbose=0):\n",
        "\n",
        "        super(TrialEvalCallback, self).__init__(eval_env=eval_env, n_eval_episodes=n_eval_episodes,\n",
        "                                                eval_freq=eval_freq,\n",
        "                                                deterministic=deterministic,\n",
        "                                                verbose=verbose)\n",
        "        self.trial = trial\n",
        "        self.eval_idx = 0\n",
        "        self.is_pruned = False\n",
        "\n",
        "    def _on_step(self):\n",
        "        if self.eval_freq > 0 and self.n_calls % self.eval_freq == 0:\n",
        "            super(TrialEvalCallback, self)._on_step()\n",
        "            self.eval_idx += 1\n",
        "            # report best or report current ?\n",
        "            # report num_timesteps or elasped time ?\n",
        "            self.trial.report(-1 * self.last_mean_reward, self.eval_idx)\n",
        "            # Prune trial if need\n",
        "            if self.trial.should_prune():\n",
        "                self.is_pruned = True\n",
        "                return False\n",
        "        return True"
      ],
      "execution_count": null,
      "outputs": []
    },
    {
      "cell_type": "code",
      "metadata": {
        "id": "gsdRsmgmPuqp"
      },
      "source": [
        "def make_env(env_id, rank, seed=0):\n",
        "    \"\"\"\n",
        "    Utility function for multiprocessed env.\n",
        "    \n",
        "    :param env_id: (str) the environment ID\n",
        "    :param seed: (int) the inital seed for RNG(난수생성기)\n",
        "    :param rank: (int) index of the subprocess\n",
        "    \"\"\"\n",
        "    def _init():\n",
        "        env = gym.make(env_id)\n",
        "        # Important: use a different seed for each environment\n",
        "        env.seed(seed + rank)\n",
        "        return env\n",
        "    set_global_seeds(seed)\n",
        "    return _init"
      ],
      "execution_count": null,
      "outputs": []
    },
    {
      "cell_type": "markdown",
      "metadata": {
        "id": "KQl975FCQ48J"
      },
      "source": [
        "# HPO 탐색 사전 준비"
      ]
    },
    {
      "cell_type": "code",
      "metadata": {
        "id": "YpxHpqsPSiwm"
      },
      "source": [
        "# n_warmup_steps: Disable pruner until the trial reaches the given number of step.\n",
        "if sampler_method == 'random':\n",
        "    sampler = RandomSampler(seed=seed)\n",
        "elif sampler_method == 'tpe':\n",
        "    sampler = TPESampler(n_startup_trials=n_startup_trials, seed=seed)\n",
        "elif sampler_method == 'skopt':\n",
        "    # cf https://scikit-optimize.github.io/#skopt.Optimizer\n",
        "    # GP: gaussian process\n",
        "    # Gradient boosted regression: GBRT\n",
        "    sampler = SkoptSampler(skopt_kwargs={'base_estimator': \"GP\", 'acq_func': 'gp_hedge'})\n",
        "else:\n",
        "    raise ValueError('Unknown sampler: {}'.format(sampler_method))\n",
        "\n",
        "if pruner_method == 'halving':\n",
        "    pruner = SuccessiveHalvingPruner(min_resource=1, reduction_factor=4, min_early_stopping_rate=0)\n",
        "elif pruner_method == 'median':\n",
        "    pruner = MedianPruner(n_startup_trials=n_startup_trials, n_warmup_steps=n_evaluations // 3)\n",
        "elif pruner_method == 'none':\n",
        "    # Do not prune\n",
        "    pruner = MedianPruner(n_startup_trials=n_trials, n_warmup_steps=n_evaluations)\n",
        "else:\n",
        "    raise ValueError('Unknown pruner: {}'.format(pruner_method))\n",
        "\n",
        "study = optuna.create_study(sampler=sampler, pruner=pruner)\n",
        "algo_sampler = sample_a2c_params"
      ],
      "execution_count": null,
      "outputs": []
    },
    {
      "cell_type": "markdown",
      "metadata": {
        "id": "KfdexleyVPH-"
      },
      "source": [
        "# Objective Fn. 정의"
      ]
    },
    {
      "cell_type": "code",
      "metadata": {
        "id": "kEbUkR_V-8Q9"
      },
      "source": [
        "# 탐색 Task 정의\n",
        "def objective(trial):\n",
        "    kwargs = {}\n",
        "    #trial.model_class = None\n",
        "    kwargs.update(algo_sampler(trial)) # 탐색공간에서 샘플링을 한 다음 argument를 업데이트하는 것 같음\n",
        "\n",
        "    # 환경 정의\n",
        "    #env = make_vec_env('CartPole-v1', n_envs= 1)\n",
        "    if n_envs == 1:\n",
        "        env = DummyVecEnv([make_env(env_id, 0, seed)])\n",
        "    else:\n",
        "        env = DummyVecEnv([make_env(env_id, i, seed) for i in range(n_envs)])\n",
        "\n",
        "    # 모델 정의\n",
        "    model = A2C('MlpPolicy', env=env, tensorboard_log=tensorboard_log, verbose=0, **kwargs)\n",
        "\n",
        "    # 평가 환경 정의?\n",
        "    eval_env = DummyVecEnv([make_env(env_id, 0, seed)])\n",
        "\n",
        "    # Account for parallel envs\n",
        "    eval_freq_ = eval_freq\n",
        "    if isinstance(model.get_env(), VecEnv):\n",
        "        eval_freq_ = max(eval_freq // model.get_env().num_envs, 1)\n",
        "    # TODO: use non-deterministic eval for Atari?\n",
        "    eval_callback = TrialEvalCallback(eval_env, trial, n_eval_episodes=n_eval_episodes,\n",
        "                                      eval_freq=eval_freq_, deterministic=True)\n",
        "\n",
        "    try:\n",
        "        model.learn(n_timesteps, callback=eval_callback)\n",
        "        # Free memory\n",
        "        model.env.close()\n",
        "        eval_env.close()\n",
        "    except AssertionError:\n",
        "        # Sometimes, random hyperparams can generate NaN\n",
        "        # Free memory\n",
        "        model.env.close()\n",
        "        eval_env.close()\n",
        "        raise optuna.exceptions.TrialPruned()\n",
        "    is_pruned = eval_callback.is_pruned\n",
        "    cost = -1 * eval_callback.last_mean_reward\n",
        "\n",
        "    del model.env, eval_env\n",
        "    del model\n",
        "\n",
        "    if is_pruned:\n",
        "        raise optuna.exceptions.TrialPruned()\n",
        "\n",
        "    return cost"
      ],
      "execution_count": null,
      "outputs": []
    },
    {
      "cell_type": "markdown",
      "metadata": {
        "id": "PDrNeUdaRGWL"
      },
      "source": [
        "# <font color='blue'> 탐색 </font>"
      ]
    },
    {
      "cell_type": "code",
      "metadata": {
        "id": "T4C4_vd8-8VL"
      },
      "source": [
        "try:\n",
        "    study.optimize(objective, n_trials=n_trials, n_jobs=n_jobs)\n",
        "except KeyboardInterrupt:\n",
        "    pass\n",
        "\n",
        "print('Number of finished trials: ', len(study.trials))\n",
        "\n",
        "print('Best trial:')\n",
        "trial = study.best_trial\n",
        "\n",
        "print('Value: ', trial.value)\n",
        "\n",
        "print('Params: ')\n",
        "for key, value in trial.params.items():\n",
        "    print('    {}: {}'.format(key, value))\n",
        "\n",
        "data_frame = study.trials_dataframe()"
      ],
      "execution_count": null,
      "outputs": []
    },
    {
      "cell_type": "markdown",
      "metadata": {
        "id": "ZLmURFNOAOi3"
      },
      "source": [
        "# 결과 저장"
      ]
    },
    {
      "cell_type": "code",
      "metadata": {
        "id": "ogGn1BNmAOKI"
      },
      "source": [
        "report_name = \"report_{}_{}-trials-{}-{}-{}_{}.csv\".format(env_id, n_trials, n_timesteps,\n",
        "                                                        sampler, pruner, int(time.time()))\n",
        "log_path = os.path.join(log_folder, algo, report_name)\n",
        "print(\"Writing report to {}\".format(log_path))\n",
        "\n",
        "os.makedirs(os.path.dirname(log_path), exist_ok=True)\n",
        "data_frame.to_csv(log_path)"
      ],
      "execution_count": null,
      "outputs": []
    },
    {
      "cell_type": "markdown",
      "metadata": {
        "id": "PwWbKqdxTMt1"
      },
      "source": [
        "# 결과 다운로드"
      ]
    },
    {
      "cell_type": "code",
      "metadata": {
        "id": "xHRIkGJ1-8ZT"
      },
      "source": [
        "from google.colab import files\n",
        "files.download(log_path)"
      ],
      "execution_count": null,
      "outputs": []
    }
  ]
}